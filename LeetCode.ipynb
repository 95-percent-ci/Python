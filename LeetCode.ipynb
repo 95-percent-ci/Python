{
 "cells": [
  {
   "cell_type": "markdown",
   "metadata": {},
   "source": [
    "# Solving Standard Problem in LeetCode"
   ]
  },
  {
   "cell_type": "markdown",
   "metadata": {},
   "source": [
    "## **2 Pairs Sum**\n",
    "\n",
    "Write a program to find all pairs of integers in a list whose sum in equal to a given number\n",
    "\n",
    "For Example:\n",
    "\n",
    "Target = `9`\n",
    "\n",
    "`[2, 6, 3, 9, 11]`  \n",
    "\n",
    "### **Some Consideration**\n",
    "\n",
    "1. Does Array contain only positive and negative number\n",
    "2. What if the same pair repeats twuce, should we print it every time\n",
    "3. if the reverse of the pair is acceptable e.g, can we both print both (4,1) and (1,4) if the given sum is 5\n",
    "4. Do we need to print only distinct pairs? (3,3) is a valid pair forgiven sum of 6?\n",
    "5. How big is the array?"
   ]
  },
  {
   "cell_type": "markdown",
   "metadata": {},
   "source": [
    "### SubOptimal Solution"
   ]
  },
  {
   "cell_type": "code",
   "execution_count": 2,
   "metadata": {},
   "outputs": [],
   "source": [
    "def findPairs(num, target):\n",
    "    \"\"\"_summary_\n",
    "\n",
    "    :param num: _description_\n",
    "    :type num: _type_\n",
    "    :param target: _description_\n",
    "    :type target: _type_\n",
    "    \"\"\"\n",
    "    len_num = len(num) ## O(1)\n",
    "\n",
    "    for i in range(len_num): ## O(N)\n",
    "        for j in range(i + 1, len_num): ## O(N)\n",
    "            if num[i] == num[j]: ## O(1)\n",
    "                continue\n",
    "            if num[i] + num[j] == target: ## O(1)\n",
    "                print(i,j) ## O(1)\n",
    "\n",
    "    ## Overall Complexity: ~ O(N^2)\n",
    "\n"
   ]
  },
  {
   "cell_type": "markdown",
   "metadata": {},
   "source": [
    "### Optimal Solution"
   ]
  },
  {
   "cell_type": "code",
   "execution_count": 3,
   "metadata": {},
   "outputs": [
    {
     "name": "stdout",
     "output_type": "stream",
     "text": [
      "0 6\n",
      "1 6\n",
      "3 6\n",
      "4 6\n"
     ]
    }
   ],
   "source": [
    "findPairs([1,1,2,1,1,2,3,4], 4)"
   ]
  },
  {
   "cell_type": "code",
   "execution_count": 4,
   "metadata": {},
   "outputs": [],
   "source": [
    "def two_sum(nums, target):\n",
    "\n",
    "    seen = {}\n",
    "\n",
    "    for i, num in enumerate(nums):\n",
    "        complement = target - num\n",
    "\n",
    "        if complement in seen and complement != num:\n",
    "            return [seen[complement], i], seen\n",
    "        \n",
    "        seen[num] = i"
   ]
  },
  {
   "cell_type": "code",
   "execution_count": 5,
   "metadata": {},
   "outputs": [],
   "source": [
    "nums = [1,1,2,1,1,2,3,4]"
   ]
  },
  {
   "cell_type": "code",
   "execution_count": 6,
   "metadata": {},
   "outputs": [
    {
     "data": {
      "text/plain": [
       "[4, 6]"
      ]
     },
     "execution_count": 6,
     "metadata": {},
     "output_type": "execute_result"
    }
   ],
   "source": [
    "target = 4\n",
    "indices, chk = two_sum(nums, target)\n",
    "indices"
   ]
  },
  {
   "cell_type": "code",
   "execution_count": 7,
   "metadata": {},
   "outputs": [
    {
     "data": {
      "text/plain": [
       "{1: 4, 2: 5}"
      ]
     },
     "execution_count": 7,
     "metadata": {},
     "output_type": "execute_result"
    }
   ],
   "source": [
    "chk"
   ]
  },
  {
   "cell_type": "code",
   "execution_count": 8,
   "metadata": {},
   "outputs": [
    {
     "name": "stdout",
     "output_type": "stream",
     "text": [
      "0 6\n",
      "1 6\n",
      "3 6\n",
      "4 6\n"
     ]
    }
   ],
   "source": [
    "findPairs([1,1,2,1,1,2,3,4], 4)"
   ]
  },
  {
   "cell_type": "markdown",
   "metadata": {},
   "source": [
    "## Max Product of Two Integers\n",
    "\n",
    "Find the maximum product of two integers in an array where all elements are positive\n",
    "\n",
    "For Example:\n",
    "\n",
    "arr = `[1, 7, 3, 4, 9, 5]`\n",
    "\n",
    "max_product = 9 * 7 = 63\n",
    "\n"
   ]
  },
  {
   "cell_type": "code",
   "execution_count": 9,
   "metadata": {},
   "outputs": [],
   "source": [
    "from typing import Union\n",
    "import numpy as np"
   ]
  },
  {
   "cell_type": "markdown",
   "metadata": {},
   "source": [
    "### Solution with $O(n^2)$  Complexity\n",
    "\t\n"
   ]
  },
  {
   "cell_type": "code",
   "execution_count": 10,
   "metadata": {},
   "outputs": [],
   "source": [
    "def maxTwoProduct(arr: Union[list, np.array]) -> float:\n",
    "    \"\"\"max Product \n",
    "\n",
    "    :param arr: _description_\n",
    "    :type arr: Union[list, np.array]\n",
    "\n",
    "    :return: _description_\n",
    "    :rtype: float\n",
    "    \"\"\"\n",
    "\n",
    "    maxProd = 0 ## O(1)\n",
    "    for i in range(len(arr)): # O(N)\n",
    "        for j in range(i + 1, len(arr)): # O(N)\n",
    "            prod = arr[i] * arr[j] # O(1)\n",
    "\n",
    "            if prod > maxProd: # O(1)\n",
    "                maxProd = prod # O(1)\n",
    "        \n",
    "    return maxProd\n",
    "\n",
    "\n"
   ]
  },
  {
   "cell_type": "code",
   "execution_count": 11,
   "metadata": {},
   "outputs": [
    {
     "data": {
      "text/plain": [
       "63"
      ]
     },
     "execution_count": 11,
     "metadata": {},
     "output_type": "execute_result"
    }
   ],
   "source": [
    "arr = [1, 7, 3, 4, 9, 5] \n",
    "maxTwoProduct(arr)"
   ]
  },
  {
   "cell_type": "markdown",
   "metadata": {},
   "source": [
    "### Solution with $O(n)$ Complexity"
   ]
  },
  {
   "cell_type": "code",
   "execution_count": 12,
   "metadata": {},
   "outputs": [],
   "source": [
    "from typing import Union\n",
    "import numpy as np"
   ]
  },
  {
   "cell_type": "code",
   "execution_count": 13,
   "metadata": {},
   "outputs": [],
   "source": [
    "def maxTwoProductV2(arr: Union[list, np.array]) -> float:\n",
    "    \"\"\"Implementing Finding Max Product with $O(n)$ Complex\n",
    "\n",
    "    :param arr: _description_\n",
    "    :type arr: Union[list, np.array]\n",
    "\n",
    "    :return: _description_\n",
    "    :rtype: float\n",
    "    \"\"\"\n",
    "\n",
    "    ## Initialze two variables to store the two largest numbers ##\n",
    "    max1, max2 = 0, 0\n",
    "\n",
    "    for num in arr:\n",
    "\n",
    "        if num > max1:\n",
    "            max2 = max1\n",
    "            max1 = num\n",
    "\n",
    "        elif num > max2:\n",
    "            max2 = num\n",
    "    \n",
    "    return max1 *max2"
   ]
  },
  {
   "cell_type": "code",
   "execution_count": 14,
   "metadata": {},
   "outputs": [
    {
     "name": "stdout",
     "output_type": "stream",
     "text": [
      "63\n"
     ]
    }
   ],
   "source": [
    "arr = [1, 7, 3, 4, 9, 5]\n",
    "print(maxTwoProductV2(arr))"
   ]
  },
  {
   "cell_type": "markdown",
   "metadata": {},
   "source": [
    "#### Special case of Finding 3 elements in a Array"
   ]
  },
  {
   "cell_type": "code",
   "execution_count": 15,
   "metadata": {},
   "outputs": [],
   "source": [
    "def maxThreeProduct(arr: Union[list, np.array]) -> float:\n",
    "    \"\"\"_summary_\n",
    "\n",
    "    :param arr: _description_\n",
    "    :type arr: Union[list, np.array]\n",
    "    :return: _description_\n",
    "    :rtype: float\n",
    "    \"\"\"\n",
    "\n",
    "    m1, m2, m3 = 0, 0, 0\n",
    "\n",
    "    for num in arr:\n",
    "\n",
    "        if num > m1:\n",
    "            m3 = m2\n",
    "            m2 = m1\n",
    "            m1 = num\n",
    "\n",
    "        elif num > m2:\n",
    "            m3 = m2\n",
    "            m2 = num\n",
    "        \n",
    "        elif num > m3:\n",
    "            m3 = num\n",
    "\n",
    "    \n",
    "    return m1 * m2 * m3"
   ]
  },
  {
   "cell_type": "code",
   "execution_count": 17,
   "metadata": {},
   "outputs": [
    {
     "name": "stdout",
     "output_type": "stream",
     "text": [
      "378\n"
     ]
    }
   ],
   "source": [
    "arr = [1, 7, 3, 4, 9, 5, 6]\n",
    "print(maxThreeProduct(arr))"
   ]
  },
  {
   "cell_type": "markdown",
   "metadata": {},
   "source": [
    "## Diagonal Sum of Elements in 3 * 3 List / \n",
    "\n",
    "Given 2D list calculate the sum of diagonal elements\n",
    "\n",
    "**Example**\n",
    "```\n",
    "myList2D = [[1,2,3],[4,5,6],[7,8,9]]\n",
    "diagonal_sum(myList2D) # 15\n",
    "\n",
    "```"
   ]
  },
  {
   "cell_type": "code",
   "execution_count": 18,
   "metadata": {},
   "outputs": [],
   "source": [
    "def diagonal_sum(matrix):\n",
    "    \"\"\"_summary_\n",
    "\n",
    "    :param matrix: _description_\n",
    "    :type matrix: _type_\n",
    "    \n",
    "    :return: _description_\n",
    "    :rtype: _type_\n",
    "    \"\"\"\n",
    "    diag_sum = 0\n",
    "    for i, element in enumerate(matrix):\n",
    "        diag_sum += element[i]\n",
    "        \n",
    "    return diag_sum"
   ]
  },
  {
   "cell_type": "code",
   "execution_count": 19,
   "metadata": {},
   "outputs": [
    {
     "data": {
      "text/plain": [
       "15"
      ]
     },
     "execution_count": 19,
     "metadata": {},
     "output_type": "execute_result"
    }
   ],
   "source": [
    "myList2D= [[1,2,3],[4,5,6],[7,8,9]] \n",
    " \n",
    "diagonal_sum(myList2D) # 15"
   ]
  },
  {
   "cell_type": "markdown",
   "metadata": {},
   "source": [
    "## Best Score\n",
    "\n",
    "Given a list, write a function to get first, second best scores from the list\n",
    "\n",
    "List May Contain duplicates\n",
    "\n",
    "**Example**\n",
    "```\n",
    "myList = [84,85,86,87,85,90,85,83,23,45,84,1,2,0]\n",
    "\n",
    "first_second(myList) # 90 87\n",
    "\n",
    "```"
   ]
  },
  {
   "cell_type": "code",
   "execution_count": 21,
   "metadata": {},
   "outputs": [],
   "source": [
    "def first_second(my_list: list):\n",
    "    \"\"\"\n",
    "\n",
    "    :param my_list: _description_\n",
    "    :type my_list: list\n",
    "    \"\"\"\n",
    "\n",
    "    best_score = []\n",
    "\n",
    "    m1, m2 = 0, 0\n",
    "\n",
    "    for score in my_list:\n",
    "\n",
    "        if score > m1:\n",
    "            \n",
    "            m2 = m1\n",
    "            m1 = score\n",
    "\n",
    "        elif score > m2:\n",
    "            m2 = score\n",
    "\n",
    "    return m1, m2"
   ]
  },
  {
   "cell_type": "code",
   "execution_count": 22,
   "metadata": {},
   "outputs": [
    {
     "data": {
      "text/plain": [
       "(90, 87)"
      ]
     },
     "execution_count": 22,
     "metadata": {},
     "output_type": "execute_result"
    }
   ],
   "source": [
    "first_second([84,85,86,87,85,90,85,83,23,45,84,1,2,0])"
   ]
  },
  {
   "cell_type": "markdown",
   "metadata": {},
   "source": [
    "## Remove Duplicate Numbers\n",
    "\n",
    "Write a function to remove the duplicate numbers on given integer array/list\n",
    "\n",
    "**Example**\n",
    "\n",
    "```\n",
    "    remove_duplicates([1, 1, 2, 2, 3, 4, 5])\n",
    "    Output : [1, 2, 3, 4, 5]\n",
    "\n",
    "```"
   ]
  },
  {
   "cell_type": "code",
   "execution_count": 23,
   "metadata": {},
   "outputs": [],
   "source": [
    "from collections import defaultdict"
   ]
  },
  {
   "cell_type": "code",
   "execution_count": 26,
   "metadata": {},
   "outputs": [],
   "source": [
    "x = defaultdict(lambda: 0)"
   ]
  },
  {
   "cell_type": "code",
   "execution_count": 30,
   "metadata": {},
   "outputs": [],
   "source": [
    "x[11] += 1"
   ]
  },
  {
   "cell_type": "code",
   "execution_count": 31,
   "metadata": {},
   "outputs": [
    {
     "data": {
      "text/plain": [
       "1"
      ]
     },
     "execution_count": 31,
     "metadata": {},
     "output_type": "execute_result"
    }
   ],
   "source": [
    "x[11]"
   ]
  },
  {
   "cell_type": "code",
   "execution_count": 34,
   "metadata": {},
   "outputs": [],
   "source": [
    "def remove_duplicates(arr: list) -> list:\n",
    "    \"\"\"_summary_\n",
    "\n",
    "    :param arr: _description_\n",
    "    :type arr: list\n",
    "\n",
    "    :return: _description_\n",
    "    :rtype: list\n",
    "    \"\"\"\n",
    "\n",
    "    count_dict = defaultdict(lambda: 0)\n",
    "\n",
    "    non_dup = []\n",
    "\n",
    "    for element in arr:\n",
    "        count_dict[element] += 1\n",
    "\n",
    "        if count_dict[element] == 1:\n",
    "            non_dup.append(element)\n",
    "\n",
    "    return non_dup\n"
   ]
  },
  {
   "cell_type": "code",
   "execution_count": 36,
   "metadata": {},
   "outputs": [
    {
     "ename": "KeyError",
     "evalue": "1",
     "output_type": "error",
     "traceback": [
      "\u001b[0;31m---------------------------------------------------------------------------\u001b[0m",
      "\u001b[0;31mKeyError\u001b[0m                                  Traceback (most recent call last)",
      "Cell \u001b[0;32mIn[36], line 1\u001b[0m\n\u001b[0;32m----> 1\u001b[0m remove_duplicates([\u001b[39m1\u001b[39;49m,\u001b[39m1\u001b[39;49m,\u001b[39m2\u001b[39;49m,\u001b[39m3\u001b[39;49m,\u001b[39m2\u001b[39;49m,\u001b[39m4\u001b[39;49m])\n",
      "Cell \u001b[0;32mIn[34], line 16\u001b[0m, in \u001b[0;36mremove_duplicates\u001b[0;34m(arr)\u001b[0m\n\u001b[1;32m     13\u001b[0m non_dup \u001b[39m=\u001b[39m []\n\u001b[1;32m     15\u001b[0m \u001b[39mfor\u001b[39;00m element \u001b[39min\u001b[39;00m arr:\n\u001b[0;32m---> 16\u001b[0m     count_dict[element] \u001b[39m+\u001b[39m\u001b[39m=\u001b[39m \u001b[39m1\u001b[39m\n\u001b[1;32m     18\u001b[0m     \u001b[39mif\u001b[39;00m count_dict[element] \u001b[39m==\u001b[39m \u001b[39m1\u001b[39m:\n\u001b[1;32m     19\u001b[0m         non_dup\u001b[39m.\u001b[39mappend(element)\n",
      "\u001b[0;31mKeyError\u001b[0m: 1"
     ]
    }
   ],
   "source": [
    "remove_duplicates([1,1,2,3,2,4])"
   ]
  },
  {
   "cell_type": "code",
   "execution_count": null,
   "metadata": {},
   "outputs": [],
   "source": []
  }
 ],
 "metadata": {
  "kernelspec": {
   "display_name": "Python 3",
   "language": "python",
   "name": "python3"
  },
  "language_info": {
   "codemirror_mode": {
    "name": "ipython",
    "version": 3
   },
   "file_extension": ".py",
   "mimetype": "text/x-python",
   "name": "python",
   "nbconvert_exporter": "python",
   "pygments_lexer": "ipython3",
   "version": "3.9.6"
  },
  "orig_nbformat": 4
 },
 "nbformat": 4,
 "nbformat_minor": 2
}
