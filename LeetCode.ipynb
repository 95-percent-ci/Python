{
 "cells": [
  {
   "cell_type": "markdown",
   "metadata": {},
   "source": [
    "# Solving Standard Problem in LeetCode"
   ]
  },
  {
   "cell_type": "markdown",
   "metadata": {},
   "source": [
    "## **2 Pairs Sum**\n",
    "\n",
    "Write a program to find all pairs of integers in a list whose sum in equal to a given number\n",
    "\n",
    "For Example:\n",
    "\n",
    "Target = `9`\n",
    "\n",
    "`[2, 6, 3, 9, 11]`  \n",
    "\n",
    "### **Some Consideration**\n",
    "\n",
    "1. Does Array contain only positive and negative number\n",
    "2. What if the same pair repeats twuce, should we print it every time\n",
    "3. if the reverse of the pair is acceptable e.g, can we both print both (4,1) and (1,4) if the given sum is 5\n",
    "4. Do we need to print only distinct pairs? (3,3) is a valid pair forgiven sum of 6?\n",
    "5. How big is the array?"
   ]
  },
  {
   "cell_type": "markdown",
   "metadata": {},
   "source": [
    "### SubOptimal Solution"
   ]
  },
  {
   "cell_type": "code",
   "execution_count": 1,
   "metadata": {},
   "outputs": [],
   "source": [
    "def findPairs(num, target):\n",
    "    \"\"\"_summary_\n",
    "\n",
    "    :param num: _description_\n",
    "    :type num: _type_\n",
    "    :param target: _description_\n",
    "    :type target: _type_\n",
    "    \"\"\"\n",
    "    len_num = len(num) ## O(1)\n",
    "\n",
    "    for i in range(len_num): ## O(N)\n",
    "        for j in range(i + 1, len_num): ## O(N)\n",
    "            if num[i] == num[j]: ## O(1)\n",
    "                continue\n",
    "            if num[i] + num[j] == target: ## O(1)\n",
    "                print(i,j) ## O(1)\n",
    "\n",
    "    ## Overall Complexity: ~ O(N^2)\n",
    "\n"
   ]
  },
  {
   "cell_type": "markdown",
   "metadata": {},
   "source": [
    "### Optimal Solution"
   ]
  },
  {
   "cell_type": "code",
   "execution_count": 2,
   "metadata": {},
   "outputs": [
    {
     "name": "stdout",
     "output_type": "stream",
     "text": [
      "0 6\n",
      "1 6\n",
      "3 6\n",
      "4 6\n"
     ]
    }
   ],
   "source": [
    "findPairs([1,1,2,1,1,2,3,4], 4)"
   ]
  },
  {
   "cell_type": "code",
   "execution_count": 3,
   "metadata": {},
   "outputs": [],
   "source": [
    "def two_sum(nums, target):\n",
    "\n",
    "    seen = {}\n",
    "\n",
    "    for i, num in enumerate(nums):\n",
    "        complement = target - num\n",
    "\n",
    "        if complement in seen and complement != num:\n",
    "            return [seen[complement], i], seen\n",
    "        \n",
    "        seen[num] = i"
   ]
  },
  {
   "cell_type": "code",
   "execution_count": 4,
   "metadata": {},
   "outputs": [],
   "source": [
    "nums = [1,1,2,1,1,2,3,4]"
   ]
  },
  {
   "cell_type": "code",
   "execution_count": 5,
   "metadata": {},
   "outputs": [
    {
     "data": {
      "text/plain": [
       "[4, 6]"
      ]
     },
     "execution_count": 5,
     "metadata": {},
     "output_type": "execute_result"
    }
   ],
   "source": [
    "target = 4\n",
    "indices, chk = two_sum(nums, target)\n",
    "indices"
   ]
  },
  {
   "cell_type": "code",
   "execution_count": 6,
   "metadata": {},
   "outputs": [
    {
     "data": {
      "text/plain": [
       "{1: 4, 2: 5}"
      ]
     },
     "execution_count": 6,
     "metadata": {},
     "output_type": "execute_result"
    }
   ],
   "source": [
    "chk"
   ]
  },
  {
   "cell_type": "code",
   "execution_count": 7,
   "metadata": {},
   "outputs": [
    {
     "name": "stdout",
     "output_type": "stream",
     "text": [
      "0 6\n",
      "1 6\n",
      "3 6\n",
      "4 6\n"
     ]
    }
   ],
   "source": [
    "findPairs([1,1,2,1,1,2,3,4], 4)"
   ]
  },
  {
   "cell_type": "markdown",
   "metadata": {},
   "source": [
    "## Max Product of Two Integers\n",
    "\n",
    "Find the maximum product of two integers in an array where all elements are positive\n",
    "\n",
    "For Example:\n",
    "\n",
    "arr = `[1, 7, 3, 4, 9, 5]`\n",
    "\n",
    "max_product = 9 * 7 = 63\n",
    "\n"
   ]
  },
  {
   "cell_type": "code",
   "execution_count": 8,
   "metadata": {},
   "outputs": [],
   "source": [
    "from typing import Union\n",
    "import numpy as np"
   ]
  },
  {
   "cell_type": "markdown",
   "metadata": {},
   "source": [
    "### Solution with $O(n^2)$  Complexity\n",
    "\t\n"
   ]
  },
  {
   "cell_type": "code",
   "execution_count": 9,
   "metadata": {},
   "outputs": [],
   "source": [
    "def maxTwoProduct(arr: Union[list, np.array]) -> float:\n",
    "    \"\"\"max Product \n",
    "\n",
    "    :param arr: _description_\n",
    "    :type arr: Union[list, np.array]\n",
    "\n",
    "    :return: _description_\n",
    "    :rtype: float\n",
    "    \"\"\"\n",
    "\n",
    "    maxProd = 0 ## O(1)\n",
    "    for i in range(len(arr)): # O(N)\n",
    "        for j in range(i + 1, len(arr)): # O(N)\n",
    "            prod = arr[i] * arr[j] # O(1)\n",
    "\n",
    "            if prod > maxProd: # O(1)\n",
    "                maxProd = prod # O(1)\n",
    "        \n",
    "    return maxProd\n",
    "\n",
    "\n"
   ]
  },
  {
   "cell_type": "code",
   "execution_count": 10,
   "metadata": {},
   "outputs": [
    {
     "data": {
      "text/plain": [
       "63"
      ]
     },
     "execution_count": 10,
     "metadata": {},
     "output_type": "execute_result"
    }
   ],
   "source": [
    "arr = [1, 7, 3, 4, 9, 5] \n",
    "maxTwoProduct(arr)"
   ]
  },
  {
   "cell_type": "markdown",
   "metadata": {},
   "source": [
    "### Solution with $O(n)$ Complexity"
   ]
  },
  {
   "cell_type": "code",
   "execution_count": 11,
   "metadata": {},
   "outputs": [],
   "source": [
    "from typing import Union\n",
    "import numpy as np"
   ]
  },
  {
   "cell_type": "code",
   "execution_count": 12,
   "metadata": {},
   "outputs": [],
   "source": [
    "def maxTwoProductV2(arr: Union[list, np.array]) -> float:\n",
    "    \"\"\"Implementing Finding Max Product with $O(n)$ Complex\n",
    "\n",
    "    :param arr: _description_\n",
    "    :type arr: Union[list, np.array]\n",
    "\n",
    "    :return: _description_\n",
    "    :rtype: float\n",
    "    \"\"\"\n",
    "\n",
    "    ## Initialze two variables to store the two largest numbers ##\n",
    "    max1, max2 = 0, 0\n",
    "\n",
    "    for num in arr:\n",
    "\n",
    "        if num > max1:\n",
    "            max2 = max1\n",
    "            max1 = num\n",
    "\n",
    "        elif num > max2:\n",
    "            max2 = num\n",
    "    \n",
    "    return max1 *max2"
   ]
  },
  {
   "cell_type": "code",
   "execution_count": 13,
   "metadata": {},
   "outputs": [
    {
     "name": "stdout",
     "output_type": "stream",
     "text": [
      "63\n"
     ]
    }
   ],
   "source": [
    "arr = [1, 7, 3, 4, 9, 5]\n",
    "print(maxTwoProductV2(arr))"
   ]
  },
  {
   "cell_type": "markdown",
   "metadata": {},
   "source": [
    "#### Special case of Finding 3 elements in a Array"
   ]
  },
  {
   "cell_type": "code",
   "execution_count": 14,
   "metadata": {},
   "outputs": [],
   "source": [
    "def maxThreeProduct(arr: Union[list, np.array]) -> float:\n",
    "    \"\"\"_summary_\n",
    "\n",
    "    :param arr: _description_\n",
    "    :type arr: Union[list, np.array]\n",
    "    :return: _description_\n",
    "    :rtype: float\n",
    "    \"\"\"\n",
    "\n",
    "    m1, m2, m3 = 0, 0, 0\n",
    "\n",
    "    for num in arr:\n",
    "\n",
    "        if num > m1:\n",
    "            m3 = m2\n",
    "            m2 = m1\n",
    "            m1 = num\n",
    "\n",
    "        elif num > m2:\n",
    "            m3 = m2\n",
    "            m2 = num\n",
    "        \n",
    "        elif num > m3:\n",
    "            m3 = num\n",
    "\n",
    "    \n",
    "    return m1 * m2 * m3"
   ]
  },
  {
   "cell_type": "code",
   "execution_count": 15,
   "metadata": {},
   "outputs": [
    {
     "name": "stdout",
     "output_type": "stream",
     "text": [
      "378\n"
     ]
    }
   ],
   "source": [
    "arr = [1, 7, 3, 4, 9, 5, 6]\n",
    "print(maxThreeProduct(arr))"
   ]
  },
  {
   "cell_type": "markdown",
   "metadata": {},
   "source": [
    "## Diagonal Sum of Elements in 3 * 3 List / \n",
    "\n",
    "Given 2D list calculate the sum of diagonal elements\n",
    "\n",
    "**Example**\n",
    "```\n",
    "myList2D = [[1,2,3],[4,5,6],[7,8,9]]\n",
    "diagonal_sum(myList2D) # 15\n",
    "\n",
    "```"
   ]
  },
  {
   "cell_type": "code",
   "execution_count": 16,
   "metadata": {},
   "outputs": [],
   "source": [
    "def diagonal_sum(matrix):\n",
    "    \"\"\"_summary_\n",
    "\n",
    "    :param matrix: _description_\n",
    "    :type matrix: _type_\n",
    "    \n",
    "    :return: _description_\n",
    "    :rtype: _type_\n",
    "    \"\"\"\n",
    "    diag_sum = 0\n",
    "    for i, element in enumerate(matrix):\n",
    "        diag_sum += element[i]\n",
    "        \n",
    "    return diag_sum"
   ]
  },
  {
   "cell_type": "code",
   "execution_count": 17,
   "metadata": {},
   "outputs": [
    {
     "data": {
      "text/plain": [
       "15"
      ]
     },
     "execution_count": 17,
     "metadata": {},
     "output_type": "execute_result"
    }
   ],
   "source": [
    "myList2D= [[1,2,3],[4,5,6],[7,8,9]] \n",
    " \n",
    "diagonal_sum(myList2D) # 15"
   ]
  },
  {
   "cell_type": "markdown",
   "metadata": {},
   "source": [
    "## Best Score\n",
    "\n",
    "Given a list, write a function to get first, second best scores from the list\n",
    "\n",
    "List May Contain duplicates\n",
    "\n",
    "**Example**\n",
    "```\n",
    "myList = [84,85,86,87,85,90,85,83,23,45,84,1,2,0]\n",
    "\n",
    "first_second(myList) # 90 87\n",
    "\n",
    "```"
   ]
  },
  {
   "cell_type": "code",
   "execution_count": 18,
   "metadata": {},
   "outputs": [],
   "source": [
    "def first_second(my_list: list):\n",
    "    \"\"\"\n",
    "\n",
    "    :param my_list: _description_\n",
    "    :type my_list: list\n",
    "    \"\"\"\n",
    "\n",
    "    best_score = []\n",
    "\n",
    "    m1, m2 = 0, 0\n",
    "\n",
    "    for score in my_list:\n",
    "\n",
    "        if score > m1:\n",
    "            \n",
    "            m2 = m1\n",
    "            m1 = score\n",
    "\n",
    "        elif score > m2:\n",
    "            m2 = score\n",
    "\n",
    "    return m1, m2"
   ]
  },
  {
   "cell_type": "code",
   "execution_count": 19,
   "metadata": {},
   "outputs": [
    {
     "data": {
      "text/plain": [
       "(90, 87)"
      ]
     },
     "execution_count": 19,
     "metadata": {},
     "output_type": "execute_result"
    }
   ],
   "source": [
    "first_second([84,85,86,87,85,90,85,83,23,45,84,1,2,0])"
   ]
  },
  {
   "cell_type": "markdown",
   "metadata": {},
   "source": [
    "## Remove Duplicate Numbers\n",
    "\n",
    "Write a function to remove the duplicate numbers on given integer array/list\n",
    "\n",
    "**Example**\n",
    "\n",
    "```\n",
    "    remove_duplicates([1, 1, 2, 2, 3, 4, 5])\n",
    "    Output : [1, 2, 3, 4, 5]\n",
    "\n",
    "```"
   ]
  },
  {
   "cell_type": "code",
   "execution_count": 20,
   "metadata": {},
   "outputs": [],
   "source": [
    "def remove_duplicates(lst):\n",
    "    \"\"\"_summary_\n",
    "\n",
    "    :param lst: _description_\n",
    "    :type lst: _type_\n",
    "    \"\"\"\n",
    "\n",
    "    unique_lst = []\n",
    "    seen = set()\n",
    "\n",
    "    for item in lst:\n",
    "        if item not in seen:\n",
    "            unique_lst.append(item)\n",
    "            seen.add(item)\n",
    "\n",
    "    return unique_lst"
   ]
  },
  {
   "cell_type": "code",
   "execution_count": 21,
   "metadata": {},
   "outputs": [],
   "source": [
    "my_list = [1, 1, 2, 2, 3, 4, 5]"
   ]
  },
  {
   "cell_type": "code",
   "execution_count": 22,
   "metadata": {},
   "outputs": [
    {
     "data": {
      "text/plain": [
       "[1, 2, 3, 4, 5]"
      ]
     },
     "execution_count": 22,
     "metadata": {},
     "output_type": "execute_result"
    }
   ],
   "source": [
    "remove_duplicates(my_list)"
   ]
  },
  {
   "cell_type": "markdown",
   "metadata": {},
   "source": [
    "## Pair Sum\n",
    "\n",
    "Write a function to find all pairs of an integer array whose sum is equal to a given number. \n",
    "\n",
    "Do not consider commutative pairs. \n",
    "\n",
    "`Example`\n",
    "\n",
    "    pair_sum([2, 4, 3, 5, 6, -2, 4, 7, 8, 9],7)\n",
    "    Output : ['2+5', '4+3', '3+4', '-2+9']\n",
    "\n",
    "\n"
   ]
  },
  {
   "cell_type": "code",
   "execution_count": 36,
   "metadata": {},
   "outputs": [],
   "source": [
    "def pair_sum(arr_list: list, target=int):\n",
    "    \"\"\"_summary_\n",
    "\n",
    "    :param arr_list: _description_\n",
    "    :type arr_list: list\n",
    "    :param target: _description_, defaults to int\n",
    "    :type target: _type_, optional\n",
    "    \"\"\"\n",
    "\n",
    "    complement_dict = {}\n",
    "\n",
    "    req_list = []\n",
    "\n",
    "    for element in arr_list:\n",
    "        complement_req = target - element\n",
    "\n",
    "        if complement_req in complement_dict:\n",
    "            req_list.append(str(complement_req) + \"+\" + str(element))\n",
    "\n",
    "        complement_dict[element] = target - element\n",
    "\n",
    "    ## Getting only Unique ##\n",
    "\n",
    "    seen = set()\n",
    "    uni_list = []\n",
    "    for item in req_list:\n",
    "        if item not in seen:\n",
    "            uni_list.append(item)\n",
    "        seen.add(item)\n",
    "\n",
    "\n",
    "    return req_list"
   ]
  },
  {
   "cell_type": "code",
   "execution_count": 39,
   "metadata": {},
   "outputs": [
    {
     "data": {
      "text/plain": [
       "['4+3', '2+5', '5+2', '3+4', '-2+9']"
      ]
     },
     "execution_count": 39,
     "metadata": {},
     "output_type": "execute_result"
    }
   ],
   "source": [
    "pair_sum([2, 4, 2, 3, 5, 2, 6, -2, 4, 7, 8, 9],7)"
   ]
  },
  {
   "cell_type": "markdown",
   "metadata": {},
   "source": [
    "## Contains Duplicate\n",
    "\n",
    "Given an integer array nums, return true if any value appears at least twice in the array, and return false if every element is distinct\n",
    "\n",
    "`Example`\n",
    "\n",
    "    Input: nums = [1,2,3,1]\n",
    "    Output: true"
   ]
  },
  {
   "cell_type": "code",
   "execution_count": 40,
   "metadata": {},
   "outputs": [],
   "source": [
    "def contains_duplicate(arr_list):\n",
    "    \"\"\"\n",
    "\n",
    "    :param arr_list: _description_\n",
    "    :type arr_list: _type_\n",
    "    \"\"\"\n",
    "\n",
    "    req_set = set()\n",
    "\n",
    "    for ele in arr_list:\n",
    "        if ele in req_set:\n",
    "            return True\n",
    "        \n",
    "        req_set.add(ele)\n",
    "\n",
    "    return False"
   ]
  },
  {
   "cell_type": "code",
   "execution_count": 44,
   "metadata": {},
   "outputs": [
    {
     "data": {
      "text/plain": [
       "False"
      ]
     },
     "execution_count": 44,
     "metadata": {},
     "output_type": "execute_result"
    }
   ],
   "source": [
    "contains_duplicate([1,2,])"
   ]
  },
  {
   "cell_type": "markdown",
   "metadata": {},
   "source": [
    "## Rotate Matrix/ Image\n",
    "\n",
    "You are given an n x n 2D matrix representing an image, rotate the image by 90 degrees (clockwise).\n",
    "\n",
    "You have to rotate the image in-place, which means you have to modify the input 2D matrix directly. \n",
    "\n",
    "**DO NOT** allocate another 2D matrix and do the rotation.\n",
    "\n",
    "    Input: matrix = [[1,2,3],[4,5,6],[7,8,9]]\n",
    "    Output: [[7,4,1],[8,5,2],[9,6,3]]\n",
    "\n"
   ]
  },
  {
   "cell_type": "code",
   "execution_count": 53,
   "metadata": {},
   "outputs": [],
   "source": [
    "def rotateMatrix(matrix: list[list]) -> list[list]:\n",
    "    \"\"\"_summary_\n",
    "\n",
    "    :param matrix: _description_\n",
    "    :type matrix: list[list]\n",
    "    :return: _description_\n",
    "    :rtype: list[list]\n",
    "    \"\"\"\n",
    "\n",
    "    n = len(matrix)\n",
    "\n",
    "    for i in range(n):\n",
    "        for j in range(i,n):\n",
    "            matrix[i][j] , matrix[j][i] = matrix[j][i], matrix[i][j]\n",
    "\n",
    "    for row in matrix:\n",
    "        row.reverse()\n",
    "\n",
    "    return matrix"
   ]
  },
  {
   "cell_type": "code",
   "execution_count": 46,
   "metadata": {},
   "outputs": [],
   "source": [
    "matrix = [[1,2,3],[4,5,6],[7,8,9]]"
   ]
  },
  {
   "cell_type": "code",
   "execution_count": 54,
   "metadata": {},
   "outputs": [
    {
     "data": {
      "text/plain": [
       "[[7, 4, 1], [8, 5, 2], [9, 6, 3]]"
      ]
     },
     "execution_count": 54,
     "metadata": {},
     "output_type": "execute_result"
    }
   ],
   "source": [
    "rotateMatrix(matrix)"
   ]
  },
  {
   "cell_type": "markdown",
   "metadata": {},
   "source": [
    "## Reverse an Array\n",
    "\n",
    "Given an Array, reverse its element\n",
    "\n",
    "`s = [2,3,4,5]`\n",
    "\n",
    "`output = [5,4,3,2]`"
   ]
  },
  {
   "cell_type": "code",
   "execution_count": 2,
   "metadata": {},
   "outputs": [
    {
     "data": {
      "text/plain": [
       "2"
      ]
     },
     "execution_count": 2,
     "metadata": {},
     "output_type": "execute_result"
    }
   ],
   "source": [
    "5//2"
   ]
  },
  {
   "cell_type": "code",
   "execution_count": 22,
   "metadata": {},
   "outputs": [],
   "source": [
    "def reverse(arr: list) -> list:\n",
    "    \"\"\"Reverse a Given Array\n",
    "\n",
    "    :param arr: _description_\n",
    "    :type arr: list\n",
    "\n",
    "    :return: _description_\n",
    "    :rtype: list\n",
    "    \"\"\"\n",
    "\n",
    "    _N_ = len(arr)\n",
    "\n",
    "    for i in range(_N_//2):\n",
    "        temp = arr[i]\n",
    "        arr[i] = arr[_N_ - i - 1]\n",
    "        arr[_N_ - i - 1] = temp\n",
    "\n",
    "    return arr"
   ]
  },
  {
   "cell_type": "code",
   "execution_count": 23,
   "metadata": {},
   "outputs": [
    {
     "data": {
      "text/plain": [
       "[6, 5, 4, 3, 2]"
      ]
     },
     "execution_count": 23,
     "metadata": {},
     "output_type": "execute_result"
    }
   ],
   "source": [
    "reverse([2,3,4,5,6])"
   ]
  },
  {
   "cell_type": "markdown",
   "metadata": {},
   "source": [
    "## Create Fibonacci Sequence of N\n",
    "\n",
    "A fibonacci sequence of length $n$ is defined as \n",
    "\n",
    "$$ F_n = F_{n-1} + F_{n-2} $$\n",
    "\n",
    "where\n",
    "$$F_0 = 0, F_1 = 1$$\n"
   ]
  },
  {
   "cell_type": "code",
   "execution_count": 98,
   "metadata": {},
   "outputs": [],
   "source": [
    "def fibonacciRecursion(n: int) -> int:\n",
    "    \"\"\" Get fibonacci sequence nth element \n",
    "\n",
    "    :param N: _description_\n",
    "    :type N: int\n",
    "    :return: _description_\n",
    "    :rtype: int\n",
    "    \"\"\"\n",
    "\n",
    "    a, b = 0, 1\n",
    "\n",
    "\n",
    "    if n == 1: return a\n",
    "    \n",
    "    if n == 2: return b\n",
    "\n",
    "    if n >= 3:\n",
    "        a = fibonacciRecursion(n-1)\n",
    "        b = fibonacciRecursion(n-2)\n",
    "        n = n - 1\n",
    "\n",
    "        return a+b\n"
   ]
  },
  {
   "cell_type": "code",
   "execution_count": 97,
   "metadata": {},
   "outputs": [
    {
     "data": {
      "text/plain": [
       "0"
      ]
     },
     "execution_count": 97,
     "metadata": {},
     "output_type": "execute_result"
    }
   ],
   "source": [
    "fibonacciRecursion(1)"
   ]
  },
  {
   "cell_type": "code",
   "execution_count": 107,
   "metadata": {},
   "outputs": [],
   "source": [
    "def FibonaciOpt(n):\n",
    "    \"\"\"_summary_\n",
    "\n",
    "    :param n: _description_\n",
    "    :type n: _type_\n",
    "    \"\"\"\n",
    "\n",
    "    a, b = 0, 1\n",
    "\n",
    "    if n == 0: return a\n",
    "    \n",
    "    if n == 1: return b\n",
    "\n",
    "    for _ in range(1, n):\n",
    "        c = a + b\n",
    "\n",
    "        a = b\n",
    "        b = c\n",
    "\n",
    "    return b"
   ]
  },
  {
   "cell_type": "code",
   "execution_count": 108,
   "metadata": {},
   "outputs": [
    {
     "data": {
      "text/plain": [
       "13"
      ]
     },
     "execution_count": 108,
     "metadata": {},
     "output_type": "execute_result"
    }
   ],
   "source": [
    "FibonaciOpt(7)"
   ]
  },
  {
   "cell_type": "code",
   "execution_count": null,
   "metadata": {},
   "outputs": [],
   "source": []
  }
 ],
 "metadata": {
  "kernelspec": {
   "display_name": "Python 3",
   "language": "python",
   "name": "python3"
  },
  "language_info": {
   "codemirror_mode": {
    "name": "ipython",
    "version": 3
   },
   "file_extension": ".py",
   "mimetype": "text/x-python",
   "name": "python",
   "nbconvert_exporter": "python",
   "pygments_lexer": "ipython3",
   "version": "3.11.5"
  },
  "orig_nbformat": 4
 },
 "nbformat": 4,
 "nbformat_minor": 2
}
